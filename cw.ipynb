{
 "cells": [
  {
   "cell_type": "markdown",
   "id": "b784cfbb",
   "metadata": {},
   "source": [
    "# SDE in Finance coursework1"
   ]
  },
  {
   "cell_type": "markdown",
   "id": "6d44537b",
   "metadata": {},
   "source": [
    "### Group 6"
   ]
  },
  {
   "cell_type": "code",
   "execution_count": 15,
   "id": "b4775270",
   "metadata": {},
   "outputs": [],
   "source": [
    "import pandas as pd\n",
    "import scipy\n",
    "import numpy as np;\n",
    "import math; \n",
    "import statistics;\n",
    "from scipy.stats import norm;\n",
    "import matplotlib.pyplot as plt;\n",
    "df = pd.read_csv('S&P_500_Historical_Data.csv')"
   ]
  },
  {
   "cell_type": "code",
   "execution_count": 16,
   "id": "bd29d974",
   "metadata": {},
   "outputs": [],
   "source": [
    "df['Date'] = pd.to_datetime(df['Date'])\n",
    "\n",
    " \n",
    "\n",
    "df['Open'] = df['Open'].str.replace(',','')\n",
    "df['Open'] = df['Open'].astype(float)\n",
    "\n",
    "del df['Price']\n",
    "del df['High']\n",
    "del df['Low']\n",
    "del df['Vol.']\n",
    "del df['Change %']\n",
    "\n",
    "open_array = df['Open'].to_numpy()\n",
    "log_array = np.zeros((len(open_array)),dtype = float)\n",
    "for i in range(len(open_array)-1):\n",
    "    log_array[i+1] = np.log(open_array[i]/open_array[i+1])\n",
    "df['log_return'] = log_array\n",
    "\n",
    "df1week = df.loc[(df['Date'] >= '2022-11-12') & (df['Date'] < '2022-11-19')]\n",
    "df2week = df.loc[(df['Date'] >= '2022-11-5') & (df['Date'] < '2022-11-19')]\n",
    "df1month = df.loc[(df['Date'] >= '2022-10-19') & (df['Date'] < '2022-11-19')]\n",
    "df3month = df.loc[(df['Date'] >= '2022-8-19') & (df['Date'] < '2022-11-19')]\n",
    "df6month = df.loc[(df['Date'] >= '2022-5-19') & (df['Date'] < '2022-11-19')]\n",
    "df1year = df.loc[(df['Date'] >= '2021-11-19') & (df['Date'] < '2022-11-19')]\n",
    "df3year = df.loc[(df['Date'] >= '2019-11-19') & (df['Date'] < '2022-11-19')]\n",
    "df5year = df.loc[(df['Date'] >= '2017-11-19') & (df['Date'] < '2022-11-19')]"
   ]
  },
  {
   "cell_type": "code",
   "execution_count": 17,
   "id": "f5de3b35",
   "metadata": {},
   "outputs": [
    {
     "data": {
      "text/html": [
       "<div>\n",
       "<style scoped>\n",
       "    .dataframe tbody tr th:only-of-type {\n",
       "        vertical-align: middle;\n",
       "    }\n",
       "\n",
       "    .dataframe tbody tr th {\n",
       "        vertical-align: top;\n",
       "    }\n",
       "\n",
       "    .dataframe thead th {\n",
       "        text-align: right;\n",
       "    }\n",
       "</style>\n",
       "<table border=\"1\" class=\"dataframe\">\n",
       "  <thead>\n",
       "    <tr style=\"text-align: right;\">\n",
       "      <th></th>\n",
       "      <th>Date</th>\n",
       "      <th>Open</th>\n",
       "      <th>log_return</th>\n",
       "    </tr>\n",
       "  </thead>\n",
       "  <tbody>\n",
       "    <tr>\n",
       "      <th>0</th>\n",
       "      <td>2022-11-18</td>\n",
       "      <td>3966.39</td>\n",
       "      <td>0.000000</td>\n",
       "    </tr>\n",
       "    <tr>\n",
       "      <th>1</th>\n",
       "      <td>2022-11-17</td>\n",
       "      <td>3919.26</td>\n",
       "      <td>0.011954</td>\n",
       "    </tr>\n",
       "    <tr>\n",
       "      <th>2</th>\n",
       "      <td>2022-11-16</td>\n",
       "      <td>3976.82</td>\n",
       "      <td>-0.014580</td>\n",
       "    </tr>\n",
       "    <tr>\n",
       "      <th>3</th>\n",
       "      <td>2022-11-15</td>\n",
       "      <td>4006.41</td>\n",
       "      <td>-0.007413</td>\n",
       "    </tr>\n",
       "    <tr>\n",
       "      <th>4</th>\n",
       "      <td>2022-11-14</td>\n",
       "      <td>3977.97</td>\n",
       "      <td>0.007124</td>\n",
       "    </tr>\n",
       "  </tbody>\n",
       "</table>\n",
       "</div>"
      ],
      "text/plain": [
       "        Date     Open  log_return\n",
       "0 2022-11-18  3966.39    0.000000\n",
       "1 2022-11-17  3919.26    0.011954\n",
       "2 2022-11-16  3976.82   -0.014580\n",
       "3 2022-11-15  4006.41   -0.007413\n",
       "4 2022-11-14  3977.97    0.007124"
      ]
     },
     "execution_count": 17,
     "metadata": {},
     "output_type": "execute_result"
    }
   ],
   "source": [
    "df1week"
   ]
  },
  {
   "cell_type": "code",
   "execution_count": 12,
   "id": "20df5b41",
   "metadata": {},
   "outputs": [],
   "source": [
    "open_array = df['Open'].to_numpy()\n",
    "log_array = np.zeros((len(open_array)-1),dtype = float)\n",
    "for i in range(len(open_array)-1):\n",
    "    log_array[i] = np.log(open_array[i]/open_array[i+1])"
   ]
  },
  {
   "cell_type": "code",
   "execution_count": 13,
   "id": "b9cf84d6",
   "metadata": {},
   "outputs": [
    {
     "data": {
      "text/plain": [
       "array([ 1.19535006e-02, -1.45796445e-02, -7.41307353e-03, ...,\n",
       "        4.23017538e-05,  4.29330766e-03,  3.74565606e-03])"
      ]
     },
     "execution_count": 13,
     "metadata": {},
     "output_type": "execute_result"
    }
   ],
   "source": [
    "log_array"
   ]
  },
  {
   "cell_type": "code",
   "execution_count": null,
   "id": "f7ae1c28",
   "metadata": {},
   "outputs": [],
   "source": []
  }
 ],
 "metadata": {
  "kernelspec": {
   "display_name": "Python 3 (ipykernel)",
   "language": "python",
   "name": "python3"
  },
  "language_info": {
   "codemirror_mode": {
    "name": "ipython",
    "version": 3
   },
   "file_extension": ".py",
   "mimetype": "text/x-python",
   "name": "python",
   "nbconvert_exporter": "python",
   "pygments_lexer": "ipython3",
   "version": "3.9.7"
  }
 },
 "nbformat": 4,
 "nbformat_minor": 5
}
